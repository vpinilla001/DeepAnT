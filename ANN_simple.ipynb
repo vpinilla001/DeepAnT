{
  "nbformat": 4,
  "nbformat_minor": 0,
  "metadata": {
    "colab": {
      "name": "Untitled1.ipynb",
      "provenance": [],
      "authorship_tag": "ABX9TyMybFfzXSBlmKx833WaX33U",
      "include_colab_link": true
    },
    "kernelspec": {
      "name": "python3",
      "display_name": "Python 3"
    }
  },
  "cells": [
    {
      "cell_type": "markdown",
      "metadata": {
        "id": "view-in-github",
        "colab_type": "text"
      },
      "source": [
        "<a href=\"https://colab.research.google.com/github/vpinilla001/DeepAnT/blob/master/ANN_simple.ipynb\" target=\"_parent\"><img src=\"https://colab.research.google.com/assets/colab-badge.svg\" alt=\"Open In Colab\"/></a>"
      ]
    },
    {
      "cell_type": "code",
      "metadata": {
        "id": "Nx6bPTLpeRyU",
        "colab_type": "code",
        "colab": {}
      },
      "source": [
        "import pandas as pd\n",
        "import numpy as np\n",
        "import matplotlib.pyplot as plt\n",
        "from sklearn.preprocessing import MinMaxScaler\n",
        "from sklearn.metrics import r2_score\n",
        "from keras.models import Sequential\n",
        "from keras.layers import Dense\n",
        "from keras.callbacks import EarlyStopping\n",
        "from keras.optimizers import Adam\n",
        "from keras.layers import LSTM\n",
        "%matplotlib inline"
      ],
      "execution_count": 1,
      "outputs": []
    },
    {
      "cell_type": "code",
      "metadata": {
        "id": "h1aW7xqkeSRH",
        "colab_type": "code",
        "colab": {
          "base_uri": "https://localhost:8080/",
          "height": 204
        },
        "outputId": "d4fdeb53-8aea-4ae4-d60a-2310ea515ea5"
      },
      "source": [
        "df = pd.read_csv(\"/content/art_daily_nojump.csv\")\n",
        "df.head()"
      ],
      "execution_count": 2,
      "outputs": [
        {
          "output_type": "execute_result",
          "data": {
            "text/html": [
              "<div>\n",
              "<style scoped>\n",
              "    .dataframe tbody tr th:only-of-type {\n",
              "        vertical-align: middle;\n",
              "    }\n",
              "\n",
              "    .dataframe tbody tr th {\n",
              "        vertical-align: top;\n",
              "    }\n",
              "\n",
              "    .dataframe thead th {\n",
              "        text-align: right;\n",
              "    }\n",
              "</style>\n",
              "<table border=\"1\" class=\"dataframe\">\n",
              "  <thead>\n",
              "    <tr style=\"text-align: right;\">\n",
              "      <th></th>\n",
              "      <th>timestamp</th>\n",
              "      <th>value</th>\n",
              "      <th>label</th>\n",
              "    </tr>\n",
              "  </thead>\n",
              "  <tbody>\n",
              "    <tr>\n",
              "      <th>0</th>\n",
              "      <td>2014-04-01 00:00:00</td>\n",
              "      <td>21.598011</td>\n",
              "      <td>0</td>\n",
              "    </tr>\n",
              "    <tr>\n",
              "      <th>1</th>\n",
              "      <td>2014-04-01 00:05:00</td>\n",
              "      <td>19.321392</td>\n",
              "      <td>0</td>\n",
              "    </tr>\n",
              "    <tr>\n",
              "      <th>2</th>\n",
              "      <td>2014-04-01 00:10:00</td>\n",
              "      <td>21.399938</td>\n",
              "      <td>0</td>\n",
              "    </tr>\n",
              "    <tr>\n",
              "      <th>3</th>\n",
              "      <td>2014-04-01 00:15:00</td>\n",
              "      <td>18.373916</td>\n",
              "      <td>0</td>\n",
              "    </tr>\n",
              "    <tr>\n",
              "      <th>4</th>\n",
              "      <td>2014-04-01 00:20:00</td>\n",
              "      <td>18.167499</td>\n",
              "      <td>0</td>\n",
              "    </tr>\n",
              "  </tbody>\n",
              "</table>\n",
              "</div>"
            ],
            "text/plain": [
              "             timestamp      value  label\n",
              "0  2014-04-01 00:00:00  21.598011      0\n",
              "1  2014-04-01 00:05:00  19.321392      0\n",
              "2  2014-04-01 00:10:00  21.399938      0\n",
              "3  2014-04-01 00:15:00  18.373916      0\n",
              "4  2014-04-01 00:20:00  18.167499      0"
            ]
          },
          "metadata": {
            "tags": []
          },
          "execution_count": 2
        }
      ]
    },
    {
      "cell_type": "code",
      "metadata": {
        "id": "NV6yZsReeV1Q",
        "colab_type": "code",
        "colab": {
          "base_uri": "https://localhost:8080/",
          "height": 390
        },
        "outputId": "8d6d8944-a709-485d-8504-d1dd4f65bb79"
      },
      "source": [
        "df.drop(['label'], axis=1, inplace=True)\n",
        "df['timestamp'] = pd.to_datetime(df['timestamp'])\n",
        "df = df.set_index(['timestamp'], drop=True)\n",
        "df.head(10)"
      ],
      "execution_count": 3,
      "outputs": [
        {
          "output_type": "execute_result",
          "data": {
            "text/html": [
              "<div>\n",
              "<style scoped>\n",
              "    .dataframe tbody tr th:only-of-type {\n",
              "        vertical-align: middle;\n",
              "    }\n",
              "\n",
              "    .dataframe tbody tr th {\n",
              "        vertical-align: top;\n",
              "    }\n",
              "\n",
              "    .dataframe thead th {\n",
              "        text-align: right;\n",
              "    }\n",
              "</style>\n",
              "<table border=\"1\" class=\"dataframe\">\n",
              "  <thead>\n",
              "    <tr style=\"text-align: right;\">\n",
              "      <th></th>\n",
              "      <th>value</th>\n",
              "    </tr>\n",
              "    <tr>\n",
              "      <th>timestamp</th>\n",
              "      <th></th>\n",
              "    </tr>\n",
              "  </thead>\n",
              "  <tbody>\n",
              "    <tr>\n",
              "      <th>2014-04-01 00:00:00</th>\n",
              "      <td>21.598011</td>\n",
              "    </tr>\n",
              "    <tr>\n",
              "      <th>2014-04-01 00:05:00</th>\n",
              "      <td>19.321392</td>\n",
              "    </tr>\n",
              "    <tr>\n",
              "      <th>2014-04-01 00:10:00</th>\n",
              "      <td>21.399938</td>\n",
              "    </tr>\n",
              "    <tr>\n",
              "      <th>2014-04-01 00:15:00</th>\n",
              "      <td>18.373916</td>\n",
              "    </tr>\n",
              "    <tr>\n",
              "      <th>2014-04-01 00:20:00</th>\n",
              "      <td>18.167499</td>\n",
              "    </tr>\n",
              "    <tr>\n",
              "      <th>2014-04-01 00:25:00</th>\n",
              "      <td>20.016181</td>\n",
              "    </tr>\n",
              "    <tr>\n",
              "      <th>2014-04-01 00:30:00</th>\n",
              "      <td>18.238649</td>\n",
              "    </tr>\n",
              "    <tr>\n",
              "      <th>2014-04-01 00:35:00</th>\n",
              "      <td>19.569959</td>\n",
              "    </tr>\n",
              "    <tr>\n",
              "      <th>2014-04-01 00:40:00</th>\n",
              "      <td>21.587112</td>\n",
              "    </tr>\n",
              "    <tr>\n",
              "      <th>2014-04-01 00:45:00</th>\n",
              "      <td>18.965932</td>\n",
              "    </tr>\n",
              "  </tbody>\n",
              "</table>\n",
              "</div>"
            ],
            "text/plain": [
              "                         value\n",
              "timestamp                     \n",
              "2014-04-01 00:00:00  21.598011\n",
              "2014-04-01 00:05:00  19.321392\n",
              "2014-04-01 00:10:00  21.399938\n",
              "2014-04-01 00:15:00  18.373916\n",
              "2014-04-01 00:20:00  18.167499\n",
              "2014-04-01 00:25:00  20.016181\n",
              "2014-04-01 00:30:00  18.238649\n",
              "2014-04-01 00:35:00  19.569959\n",
              "2014-04-01 00:40:00  21.587112\n",
              "2014-04-01 00:45:00  18.965932"
            ]
          },
          "metadata": {
            "tags": []
          },
          "execution_count": 3
        }
      ]
    },
    {
      "cell_type": "code",
      "metadata": {
        "id": "gxO4J3BGeXnz",
        "colab_type": "code",
        "colab": {
          "base_uri": "https://localhost:8080/",
          "height": 411
        },
        "outputId": "9ce3a995-8b13-4348-9633-6a6c2610054d"
      },
      "source": [
        "plt.figure(figsize=(10, 6))\n",
        "df['value'].plot();"
      ],
      "execution_count": 4,
      "outputs": [
        {
          "output_type": "display_data",
          "data": {
            "image/png": "[encoded data removed]",
            "text/plain": [
              "<Figure size 720x432 with 1 Axes>"
            ]
          },
          "metadata": {
            "tags": [],
            "needs_background": "light"
          }
        }
      ]
    },
    {
      "cell_type": "code",
      "metadata": {
        "id": "etGy75BweZo2",
        "colab_type": "code",
        "colab": {
          "base_uri": "https://localhost:8080/",
          "height": 411
        },
        "outputId": "49d81771-48a9-4b98-931d-462c76a313cf"
      },
      "source": [
        "split_date = pd.Timestamp('2014-04-13 03:40:00')\n",
        "df =  df['value']\n",
        "train = df.loc[:split_date]\n",
        "test = df.loc[split_date:]\n",
        "plt.figure(figsize=(10, 6))\n",
        "ax = train.plot()\n",
        "test.plot(ax=ax)\n",
        "plt.legend(['train', 'test']);"
      ],
      "execution_count": 5,
      "outputs": [
        {
          "output_type": "display_data",
          "data": {
            "image/png": "[encoded data removed]",
            "text/plain": [
              "<Figure size 720x432 with 1 Axes>"
            ]
          },
          "metadata": {
            "tags": [],
            "needs_background": "light"
          }
        }
      ]
    },
    {
      "cell_type": "code",
      "metadata": {
        "id": "Y73OVWIyqsbb",
        "colab_type": "code",
        "colab": {}
      },
      "source": [
        "df = pd.DataFrame(df)"
      ],
      "execution_count": 6,
      "outputs": []
    },
    {
      "cell_type": "code",
      "metadata": {
        "id": "K27QMvpbeb2y",
        "colab_type": "code",
        "colab": {}
      },
      "source": [
        "scaler = MinMaxScaler()\n",
        "df = pd.DataFrame(scaler.fit_transform(df), columns = ['value'])\n",
        "# train_sc = scaler.fit_transform(train.values.reshape(-1,1))\n",
        "# test_sc = scaler.transform(test.values.reshape(-1,1))"
      ],
      "execution_count": 7,
      "outputs": []
    },
    {
      "cell_type": "code",
      "metadata": {
        "id": "FFFR-T0jrEdJ",
        "colab_type": "code",
        "colab": {
          "base_uri": "https://localhost:8080/",
          "height": 419
        },
        "outputId": "4c255e64-1e00-4e89-f54b-97332be9f5ab"
      },
      "source": [
        "df"
      ],
      "execution_count": 8,
      "outputs": [
        {
          "output_type": "execute_result",
          "data": {
            "text/html": [
              "<div>\n",
              "<style scoped>\n",
              "    .dataframe tbody tr th:only-of-type {\n",
              "        vertical-align: middle;\n",
              "    }\n",
              "\n",
              "    .dataframe tbody tr th {\n",
              "        vertical-align: top;\n",
              "    }\n",
              "\n",
              "    .dataframe thead th {\n",
              "        text-align: right;\n",
              "    }\n",
              "</style>\n",
              "<table border=\"1\" class=\"dataframe\">\n",
              "  <thead>\n",
              "    <tr style=\"text-align: right;\">\n",
              "      <th></th>\n",
              "      <th>value</th>\n",
              "    </tr>\n",
              "  </thead>\n",
              "  <tbody>\n",
              "    <tr>\n",
              "      <th>0</th>\n",
              "      <td>0.051413</td>\n",
              "    </tr>\n",
              "    <tr>\n",
              "      <th>1</th>\n",
              "      <td>0.018877</td>\n",
              "    </tr>\n",
              "    <tr>\n",
              "      <th>2</th>\n",
              "      <td>0.048582</td>\n",
              "    </tr>\n",
              "    <tr>\n",
              "      <th>3</th>\n",
              "      <td>0.005337</td>\n",
              "    </tr>\n",
              "    <tr>\n",
              "      <th>4</th>\n",
              "      <td>0.002387</td>\n",
              "    </tr>\n",
              "    <tr>\n",
              "      <th>...</th>\n",
              "      <td>...</td>\n",
              "    </tr>\n",
              "    <tr>\n",
              "      <th>4027</th>\n",
              "      <td>0.005419</td>\n",
              "    </tr>\n",
              "    <tr>\n",
              "      <th>4028</th>\n",
              "      <td>0.019770</td>\n",
              "    </tr>\n",
              "    <tr>\n",
              "      <th>4029</th>\n",
              "      <td>0.048923</td>\n",
              "    </tr>\n",
              "    <tr>\n",
              "      <th>4030</th>\n",
              "      <td>0.055031</td>\n",
              "    </tr>\n",
              "    <tr>\n",
              "      <th>4031</th>\n",
              "      <td>0.013842</td>\n",
              "    </tr>\n",
              "  </tbody>\n",
              "</table>\n",
              "<p>4032 rows × 1 columns</p>\n",
              "</div>"
            ],
            "text/plain": [
              "         value\n",
              "0     0.051413\n",
              "1     0.018877\n",
              "2     0.048582\n",
              "3     0.005337\n",
              "4     0.002387\n",
              "...        ...\n",
              "4027  0.005419\n",
              "4028  0.019770\n",
              "4029  0.048923\n",
              "4030  0.055031\n",
              "4031  0.013842\n",
              "\n",
              "[4032 rows x 1 columns]"
            ]
          },
          "metadata": {
            "tags": []
          },
          "execution_count": 8
        }
      ]
    },
    {
      "cell_type": "code",
      "metadata": {
        "id": "ETYO4r2Xi4g3",
        "colab_type": "code",
        "colab": {}
      },
      "source": [
        "from sklearn.base import TransformerMixin\n",
        "class Lags(TransformerMixin):\n",
        "    def __init__(self, lag=2, dropna=True):\n",
        "        self.lag = lag\n",
        "        self.dropna = dropna\n",
        "        pass\n",
        "    def fit(self, X, y=None):\n",
        "        return self\n",
        "    def transform(self, X, y=None):\n",
        "        if type(X) is pd.DataFrame:\n",
        "            new_dict={}\n",
        "            for col_name in X:\n",
        "                #new_dict[col_name]=X[col_name]\n",
        "                # create lagged Series\n",
        "                for l in range(1,self.lag+1):\n",
        "                    new_dict['%s_lag%d' %(col_name,l)]=X[col_name].shift(l)\n",
        "            res=pd.DataFrame(new_dict,index=X.index)\n",
        "\n",
        " \n",
        "\n",
        "        elif type(X) is pd.Series:\n",
        "            the_range=range(0,self.lag+1)\n",
        "            res=pd.concat([X.shift(i) for i in the_range],axis=1)\n",
        "            res.columns=['lag_%d' %i for i in the_range]\n",
        "        else:\n",
        "            print('Only works for DataFrame or Series')\n",
        "            return None\n",
        "        if self.dropna:\n",
        "            return res.dropna()\n",
        "        else:\n",
        "            return res"
      ],
      "execution_count": 9,
      "outputs": []
    },
    {
      "cell_type": "code",
      "metadata": {
        "id": "gfIIQXR4rOqK",
        "colab_type": "code",
        "colab": {
          "base_uri": "https://localhost:8080/",
          "height": 419
        },
        "outputId": "d4cd778a-2b73-4fad-c050-2868e994bc16"
      },
      "source": [
        "df"
      ],
      "execution_count": 10,
      "outputs": [
        {
          "output_type": "execute_result",
          "data": {
            "text/html": [
              "<div>\n",
              "<style scoped>\n",
              "    .dataframe tbody tr th:only-of-type {\n",
              "        vertical-align: middle;\n",
              "    }\n",
              "\n",
              "    .dataframe tbody tr th {\n",
              "        vertical-align: top;\n",
              "    }\n",
              "\n",
              "    .dataframe thead th {\n",
              "        text-align: right;\n",
              "    }\n",
              "</style>\n",
              "<table border=\"1\" class=\"dataframe\">\n",
              "  <thead>\n",
              "    <tr style=\"text-align: right;\">\n",
              "      <th></th>\n",
              "      <th>value</th>\n",
              "    </tr>\n",
              "  </thead>\n",
              "  <tbody>\n",
              "    <tr>\n",
              "      <th>0</th>\n",
              "      <td>0.051413</td>\n",
              "    </tr>\n",
              "    <tr>\n",
              "      <th>1</th>\n",
              "      <td>0.018877</td>\n",
              "    </tr>\n",
              "    <tr>\n",
              "      <th>2</th>\n",
              "      <td>0.048582</td>\n",
              "    </tr>\n",
              "    <tr>\n",
              "      <th>3</th>\n",
              "      <td>0.005337</td>\n",
              "    </tr>\n",
              "    <tr>\n",
              "      <th>4</th>\n",
              "      <td>0.002387</td>\n",
              "    </tr>\n",
              "    <tr>\n",
              "      <th>...</th>\n",
              "      <td>...</td>\n",
              "    </tr>\n",
              "    <tr>\n",
              "      <th>4027</th>\n",
              "      <td>0.005419</td>\n",
              "    </tr>\n",
              "    <tr>\n",
              "      <th>4028</th>\n",
              "      <td>0.019770</td>\n",
              "    </tr>\n",
              "    <tr>\n",
              "      <th>4029</th>\n",
              "      <td>0.048923</td>\n",
              "    </tr>\n",
              "    <tr>\n",
              "      <th>4030</th>\n",
              "      <td>0.055031</td>\n",
              "    </tr>\n",
              "    <tr>\n",
              "      <th>4031</th>\n",
              "      <td>0.013842</td>\n",
              "    </tr>\n",
              "  </tbody>\n",
              "</table>\n",
              "<p>4032 rows × 1 columns</p>\n",
              "</div>"
            ],
            "text/plain": [
              "         value\n",
              "0     0.051413\n",
              "1     0.018877\n",
              "2     0.048582\n",
              "3     0.005337\n",
              "4     0.002387\n",
              "...        ...\n",
              "4027  0.005419\n",
              "4028  0.019770\n",
              "4029  0.048923\n",
              "4030  0.055031\n",
              "4031  0.013842\n",
              "\n",
              "[4032 rows x 1 columns]"
            ]
          },
          "metadata": {
            "tags": []
          },
          "execution_count": 10
        }
      ]
    },
    {
      "cell_type": "code",
      "metadata": {
        "id": "XSDoTXzhkBuP",
        "colab_type": "code",
        "colab": {}
      },
      "source": [
        "X = Lags(lag = 2).transform(df)"
      ],
      "execution_count": 11,
      "outputs": []
    },
    {
      "cell_type": "code",
      "metadata": {
        "id": "kNEXD_FYnEkV",
        "colab_type": "code",
        "colab": {
          "base_uri": "https://localhost:8080/",
          "height": 419
        },
        "outputId": "f214ab6c-0313-4af2-e6a0-730e6bc6cfa8"
      },
      "source": [
        "X"
      ],
      "execution_count": 12,
      "outputs": [
        {
          "output_type": "execute_result",
          "data": {
            "text/html": [
              "<div>\n",
              "<style scoped>\n",
              "    .dataframe tbody tr th:only-of-type {\n",
              "        vertical-align: middle;\n",
              "    }\n",
              "\n",
              "    .dataframe tbody tr th {\n",
              "        vertical-align: top;\n",
              "    }\n",
              "\n",
              "    .dataframe thead th {\n",
              "        text-align: right;\n",
              "    }\n",
              "</style>\n",
              "<table border=\"1\" class=\"dataframe\">\n",
              "  <thead>\n",
              "    <tr style=\"text-align: right;\">\n",
              "      <th></th>\n",
              "      <th>value_lag1</th>\n",
              "      <th>value_lag2</th>\n",
              "    </tr>\n",
              "  </thead>\n",
              "  <tbody>\n",
              "    <tr>\n",
              "      <th>2</th>\n",
              "      <td>0.018877</td>\n",
              "      <td>0.051413</td>\n",
              "    </tr>\n",
              "    <tr>\n",
              "      <th>3</th>\n",
              "      <td>0.048582</td>\n",
              "      <td>0.018877</td>\n",
              "    </tr>\n",
              "    <tr>\n",
              "      <th>4</th>\n",
              "      <td>0.005337</td>\n",
              "      <td>0.048582</td>\n",
              "    </tr>\n",
              "    <tr>\n",
              "      <th>5</th>\n",
              "      <td>0.002387</td>\n",
              "      <td>0.005337</td>\n",
              "    </tr>\n",
              "    <tr>\n",
              "      <th>6</th>\n",
              "      <td>0.028807</td>\n",
              "      <td>0.002387</td>\n",
              "    </tr>\n",
              "    <tr>\n",
              "      <th>...</th>\n",
              "      <td>...</td>\n",
              "      <td>...</td>\n",
              "    </tr>\n",
              "    <tr>\n",
              "      <th>4027</th>\n",
              "      <td>0.008126</td>\n",
              "      <td>0.037530</td>\n",
              "    </tr>\n",
              "    <tr>\n",
              "      <th>4028</th>\n",
              "      <td>0.005419</td>\n",
              "      <td>0.008126</td>\n",
              "    </tr>\n",
              "    <tr>\n",
              "      <th>4029</th>\n",
              "      <td>0.019770</td>\n",
              "      <td>0.005419</td>\n",
              "    </tr>\n",
              "    <tr>\n",
              "      <th>4030</th>\n",
              "      <td>0.048923</td>\n",
              "      <td>0.019770</td>\n",
              "    </tr>\n",
              "    <tr>\n",
              "      <th>4031</th>\n",
              "      <td>0.055031</td>\n",
              "      <td>0.048923</td>\n",
              "    </tr>\n",
              "  </tbody>\n",
              "</table>\n",
              "<p>4030 rows × 2 columns</p>\n",
              "</div>"
            ],
            "text/plain": [
              "      value_lag1  value_lag2\n",
              "2       0.018877    0.051413\n",
              "3       0.048582    0.018877\n",
              "4       0.005337    0.048582\n",
              "5       0.002387    0.005337\n",
              "6       0.028807    0.002387\n",
              "...          ...         ...\n",
              "4027    0.008126    0.037530\n",
              "4028    0.005419    0.008126\n",
              "4029    0.019770    0.005419\n",
              "4030    0.048923    0.019770\n",
              "4031    0.055031    0.048923\n",
              "\n",
              "[4030 rows x 2 columns]"
            ]
          },
          "metadata": {
            "tags": []
          },
          "execution_count": 12
        }
      ]
    },
    {
      "cell_type": "code",
      "metadata": {
        "id": "M15i0qZOed20",
        "colab_type": "code",
        "colab": {}
      },
      "source": [
        "predict_days = 1\n",
        "lag0 = df['value'][:-2]\n",
        "lag1 = X['value_lag1']\n",
        "\n",
        "# X_test = test_sc[:-predict_days]\n",
        "# y_test = test_sc[predict_days:]"
      ],
      "execution_count": 13,
      "outputs": []
    },
    {
      "cell_type": "code",
      "metadata": {
        "id": "30K9K-X1efuF",
        "colab_type": "code",
        "colab": {
          "base_uri": "https://localhost:8080/",
          "height": 221
        },
        "outputId": "b4845cd8-7037-4973-9b86-52568d3ec617"
      },
      "source": [
        "nn_model = Sequential()\n",
        "nn_model.add(Dense(2, input_dim=1, activation='relu'))\n",
        "nn_model.add(Dense(1))\n",
        "nn_model.summary()"
      ],
      "execution_count": 14,
      "outputs": [
        {
          "output_type": "stream",
          "text": [
            "Model: \"sequential\"\n",
            "_________________________________________________________________\n",
            "Layer (type)                 Output Shape              Param #   \n",
            "=================================================================\n",
            "dense (Dense)                (None, 2)                 4         \n",
            "_________________________________________________________________\n",
            "dense_1 (Dense)              (None, 1)                 3         \n",
            "=================================================================\n",
            "Total params: 7\n",
            "Trainable params: 7\n",
            "Non-trainable params: 0\n",
            "_________________________________________________________________\n"
          ],
          "name": "stdout"
        }
      ]
    },
    {
      "cell_type": "code",
      "metadata": {
        "id": "6zAo-CdbejqS",
        "colab_type": "code",
        "colab": {
          "base_uri": "https://localhost:8080/",
          "height": 34
        },
        "outputId": "48241686-7684-486e-fdd0-ec82a474323d"
      },
      "source": [
        "nn_model.compile(loss='mean_squared_error', optimizer='adam')\n",
        "early_stop = EarlyStopping(monitor='loss', patience=2, verbose=1)\n",
        "history = nn_model.fit(lag1, lag0, epochs=1, batch_size=1, verbose=1, callbacks=[early_stop], shuffle=False)"
      ],
      "execution_count": 15,
      "outputs": [
        {
          "output_type": "stream",
          "text": [
            "4030/4030 [==============================] - 3s 734us/step - loss: 0.0603\n"
          ],
          "name": "stdout"
        }
      ]
    },
    {
      "cell_type": "code",
      "metadata": {
        "id": "J3p4yB8XelZi",
        "colab_type": "code",
        "colab": {}
      },
      "source": [
        "y_pred_test_nn = nn_model.predict(lag0)"
      ],
      "execution_count": 16,
      "outputs": []
    },
    {
      "cell_type": "code",
      "metadata": {
        "id": "PcE4nbXZfx2K",
        "colab_type": "code",
        "colab": {
          "base_uri": "https://localhost:8080/",
          "height": 404
        },
        "outputId": "185cda5f-da8b-4620-cc4b-f0193006e13e"
      },
      "source": [
        "plt.figure(figsize=(10, 6))\n",
        "plt.plot(lag0, label='True')\n",
        "plt.plot(y_pred_test_nn, label='NN')\n",
        "plt.title(\"ANN's Prediction\")\n",
        "plt.xlabel('Observation')\n",
        "plt.ylabel('Adj Close Scaled')\n",
        "plt.legend()\n",
        "plt.show();"
      ],
      "execution_count": 17,
      "outputs": [
        {
          "output_type": "display_data",
          "data": {
            "image/png": "[encoded data removed]",
            "text/plain": [
              "<Figure size 720x432 with 1 Axes>"
            ]
          },
          "metadata": {
            "tags": [],
            "needs_background": "light"
          }
        }
      ]
    },
    {
      "cell_type": "code",
      "metadata": {
        "id": "EScG6Zpefz3E",
        "colab_type": "code",
        "colab": {
          "base_uri": "https://localhost:8080/",
          "height": 1000
        },
        "outputId": "42ed91ca-d8ee-4867-969f-4747fba6d34f"
      },
      "source": [
        "# LSTM for international airline passengers problem with regression framing\n",
        "import numpy\n",
        "import matplotlib.pyplot as plt\n",
        "from pandas import read_csv\n",
        "import math\n",
        "from keras.models import Sequential\n",
        "from keras.layers import Dense\n",
        "from keras.layers import LSTM\n",
        "from sklearn.preprocessing import MinMaxScaler\n",
        "from sklearn.metrics import mean_squared_error\n",
        "# convert an array of values into a dataset matrix\n",
        "def create_dataset(dataset, look_back=1):\n",
        "\tdataX, dataY = [], []\n",
        "\tfor i in range(len(dataset)-look_back-1):\n",
        "\t\ta = dataset[i:(i+look_back), 0]\n",
        "\t\tdataX.append(a)\n",
        "\t\tdataY.append(dataset[i + look_back, 0])\n",
        "\treturn numpy.array(dataX), numpy.array(dataY)\n",
        "# fix random seed for reproducibility\n",
        "numpy.random.seed(7)\n",
        "# load the dataset\n",
        "dataframe = read_csv('/content/art_daily_nojump.csv', usecols=[1], engine='python')\n",
        "dataset = dataframe.values\n",
        "dataset = dataset.astype('float32')\n",
        "# normalize the dataset\n",
        "scaler = MinMaxScaler(feature_range=(0, 1))\n",
        "dataset = scaler.fit_transform(dataset)\n",
        "# split into train and test sets\n",
        "train_size = int(len(dataset) * 0.50)\n",
        "test_size = len(dataset) - train_size\n",
        "train, test = dataset[0:train_size,:], dataset[train_size:len(dataset),:]\n",
        "# reshape into X=t and Y=t+1\n",
        "look_back = 1\n",
        "trainX, trainY = create_dataset(train, look_back)\n",
        "testX, testY = create_dataset(test, look_back)\n",
        "# reshape input to be [samples, time steps, features]\n",
        "trainX = numpy.reshape(trainX, (trainX.shape[0], 1, trainX.shape[1]))\n",
        "testX = numpy.reshape(testX, (testX.shape[0], 1, testX.shape[1]))\n",
        "# create and fit the LSTM network\n",
        "model = Sequential()\n",
        "model.add(LSTM(4, input_shape=(1, look_back)))\n",
        "model.add(Dense(1))\n",
        "model.compile(loss='mean_squared_error', optimizer='adam')\n",
        "model.fit(trainX, trainY, epochs=20, batch_size=1, verbose=2)\n",
        "# make predictions\n",
        "trainPredict = model.predict(trainX)\n",
        "testPredict = model.predict(testX)\n",
        "# invert predictions\n",
        "trainPredict = scaler.inverse_transform(trainPredict)\n",
        "trainY = scaler.inverse_transform([trainY])\n",
        "testPredict = scaler.inverse_transform(testPredict)\n",
        "testY = scaler.inverse_transform([testY])\n",
        "# calculate root mean squared error\n",
        "trainScore = math.sqrt(mean_squared_error(trainY[0], trainPredict[:,0]))\n",
        "print('Train Score: %.2f RMSE' % (trainScore))\n",
        "testScore = math.sqrt(mean_squared_error(testY[0], testPredict[:,0]))\n",
        "print('Test Score: %.2f RMSE' % (testScore))\n",
        "# shift train predictions for plotting\n",
        "trainPredictPlot = numpy.empty_like(dataset)\n",
        "trainPredictPlot[:, :] = numpy.nan\n",
        "trainPredictPlot[look_back:len(trainPredict)+look_back, :] = trainPredict\n",
        "# shift test predictions for plotting\n",
        "testPredictPlot = numpy.empty_like(dataset)\n",
        "testPredictPlot[:, :] = numpy.nan\n",
        "testPredictPlot[len(trainPredict)+(look_back*2)+1:len(dataset)-1, :] = testPredict\n",
        "# plot baseline and predictions\n",
        "plt.figure(figsize=(20, 6))\n",
        "plt.plot(scaler.inverse_transform(dataset))\n",
        "plt.plot(trainPredictPlot)\n",
        "plt.plot(testPredictPlot)\n",
        "plt.show()"
      ],
      "execution_count": 21,
      "outputs": [
        {
          "output_type": "stream",
          "text": [
            "Epoch 1/20\n",
            "2014/2014 - 2s - loss: 0.0516\n",
            "Epoch 2/20\n",
            "2014/2014 - 2s - loss: 0.0065\n",
            "Epoch 3/20\n",
            "2014/2014 - 2s - loss: 0.0065\n",
            "Epoch 4/20\n",
            "2014/2014 - 2s - loss: 0.0065\n",
            "Epoch 5/20\n",
            "2014/2014 - 2s - loss: 0.0063\n",
            "Epoch 6/20\n",
            "2014/2014 - 2s - loss: 0.0062\n",
            "Epoch 7/20\n",
            "2014/2014 - 2s - loss: 0.0062\n",
            "Epoch 8/20\n",
            "2014/2014 - 2s - loss: 0.0062\n",
            "Epoch 9/20\n",
            "2014/2014 - 2s - loss: 0.0062\n",
            "Epoch 10/20\n",
            "2014/2014 - 2s - loss: 0.0061\n",
            "Epoch 11/20\n",
            "2014/2014 - 2s - loss: 0.0061\n",
            "Epoch 12/20\n",
            "2014/2014 - 2s - loss: 0.0061\n",
            "Epoch 13/20\n",
            "2014/2014 - 2s - loss: 0.0061\n",
            "Epoch 14/20\n",
            "2014/2014 - 2s - loss: 0.0061\n",
            "Epoch 15/20\n",
            "2014/2014 - 2s - loss: 0.0060\n",
            "Epoch 16/20\n",
            "2014/2014 - 2s - loss: 0.0060\n",
            "Epoch 17/20\n",
            "2014/2014 - 2s - loss: 0.0060\n",
            "Epoch 18/20\n",
            "2014/2014 - 2s - loss: 0.0060\n",
            "Epoch 19/20\n",
            "2014/2014 - 2s - loss: 0.0060\n",
            "Epoch 20/20\n",
            "2014/2014 - 2s - loss: 0.0060\n",
            "Train Score: 5.36 RMSE\n",
            "Test Score: 4.92 RMSE\n"
          ],
          "name": "stdout"
        },
        {
          "output_type": "display_data",
          "data": {
            "image/png": "[encoded data removed]",
            "text/plain": [
              "<Figure size 1440x432 with 1 Axes>"
            ]
          },
          "metadata": {
            "tags": [],
            "needs_background": "light"
          }
        }
      ]
    },
    {
      "cell_type": "code",
      "metadata": {
        "id": "jbaXySA70lM2",
        "colab_type": "code",
        "colab": {
          "base_uri": "https://localhost:8080/",
          "height": 1000
        },
        "outputId": "5bdd589e-c07f-4c77-be72-1a87b147a014"
      },
      "source": [
        "# LSTM for international airline passengers problem with window regression framing\n",
        "import numpy\n",
        "import matplotlib.pyplot as plt\n",
        "from pandas import read_csv\n",
        "import math\n",
        "from keras.models import Sequential\n",
        "from keras.layers import Dense\n",
        "from keras.layers import LSTM\n",
        "from sklearn.preprocessing import MinMaxScaler\n",
        "from sklearn.metrics import mean_squared_error\n",
        "# convert an array of values into a dataset matrix\n",
        "def create_dataset(dataset, look_back=1):\n",
        "\tdataX, dataY = [], []\n",
        "\tfor i in range(len(dataset)-look_back-1):\n",
        "\t\ta = dataset[i:(i+look_back), 0]\n",
        "\t\tdataX.append(a)\n",
        "\t\tdataY.append(dataset[i + look_back, 0])\n",
        "\treturn numpy.array(dataX), numpy.array(dataY)\n",
        "# fix random seed for reproducibility\n",
        "numpy.random.seed(7)\n",
        "# load the dataset\n",
        "dataframe = read_csv('/content/exchange-4_cpc_results.csv', usecols=[1], engine='python')\n",
        "dataset = dataframe.values\n",
        "dataset = dataset.astype('float32')\n",
        "# normalize the dataset\n",
        "scaler = MinMaxScaler(feature_range=(0, 1))\n",
        "dataset = scaler.fit_transform(dataset)\n",
        "# split into train and test sets\n",
        "train_size = int(len(dataset) * 0.40)\n",
        "test_size = len(dataset) - train_size\n",
        "train, test = dataset[0:train_size,:], dataset[train_size:len(dataset),:]\n",
        "# reshape into X=t and Y=t+1\n",
        "look_back = 500\n",
        "trainX, trainY = create_dataset(train, look_back)\n",
        "testX, testY = create_dataset(test, look_back)\n",
        "# reshape input to be [samples, time steps, features]\n",
        "trainX = numpy.reshape(trainX, (trainX.shape[0], 1, trainX.shape[1]))\n",
        "testX = numpy.reshape(testX, (testX.shape[0], 1, testX.shape[1]))\n",
        "# create and fit the LSTM network\n",
        "model = Sequential()\n",
        "model.add(LSTM(4, input_shape=(1, look_back)))\n",
        "model.add(Dense(1))\n",
        "model.compile(loss='mean_squared_error', optimizer='adam')\n",
        "model.fit(trainX, trainY, epochs=50, batch_size=1, verbose=2)\n",
        "# make predictions\n",
        "trainPredict = model.predict(trainX)\n",
        "testPredict = model.predict(testX)\n",
        "# invert predictions\n",
        "trainPredict = scaler.inverse_transform(trainPredict)\n",
        "trainY = scaler.inverse_transform([trainY])\n",
        "testPredict = scaler.inverse_transform(testPredict)\n",
        "testY = scaler.inverse_transform([testY])\n",
        "# calculate root mean squared error\n",
        "trainScore = math.sqrt(mean_squared_error(trainY[0], trainPredict[:,0]))\n",
        "print('Train Score: %.2f RMSE' % (trainScore))\n",
        "testScore = math.sqrt(mean_squared_error(testY[0], testPredict[:,0]))\n",
        "print('Test Score: %.2f RMSE' % (testScore))\n",
        "# shift train predictions for plotting\n",
        "trainPredictPlot = numpy.empty_like(dataset)\n",
        "trainPredictPlot[:, :] = numpy.nan\n",
        "trainPredictPlot[look_back:len(trainPredict)+look_back, :] = trainPredict\n",
        "# shift test predictions for plotting\n",
        "testPredictPlot = numpy.empty_like(dataset)\n",
        "testPredictPlot[:, :] = numpy.nan\n",
        "testPredictPlot[len(trainPredict)+(look_back*2)+1:len(dataset)-1, :] = testPredict\n",
        "# plot baseline and predictions\n",
        "plt.plot(scaler.inverse_transform(dataset))\n",
        "plt.plot(trainPredictPlot)\n",
        "plt.plot(testPredictPlot)\n",
        "plt.show()"
      ],
      "execution_count": 34,
      "outputs": [
        {
          "output_type": "stream",
          "text": [
            "Epoch 1/50\n",
            "156/156 - 0s - loss: 0.0029\n",
            "Epoch 2/50\n",
            "156/156 - 0s - loss: 0.0026\n",
            "Epoch 3/50\n",
            "156/156 - 0s - loss: 0.0025\n",
            "Epoch 4/50\n",
            "156/156 - 0s - loss: 0.0024\n",
            "Epoch 5/50\n",
            "156/156 - 0s - loss: 0.0023\n",
            "Epoch 6/50\n",
            "156/156 - 0s - loss: 0.0022\n",
            "Epoch 7/50\n",
            "156/156 - 0s - loss: 0.0021\n",
            "Epoch 8/50\n",
            "156/156 - 0s - loss: 0.0019\n",
            "Epoch 9/50\n",
            "156/156 - 0s - loss: 0.0018\n",
            "Epoch 10/50\n",
            "156/156 - 0s - loss: 0.0016\n",
            "Epoch 11/50\n",
            "156/156 - 0s - loss: 0.0014\n",
            "Epoch 12/50\n",
            "156/156 - 0s - loss: 0.0011\n",
            "Epoch 13/50\n",
            "156/156 - 0s - loss: 9.3585e-04\n",
            "Epoch 14/50\n",
            "156/156 - 0s - loss: 7.6403e-04\n",
            "Epoch 15/50\n",
            "156/156 - 0s - loss: 5.7845e-04\n",
            "Epoch 16/50\n",
            "156/156 - 0s - loss: 5.0262e-04\n",
            "Epoch 17/50\n",
            "156/156 - 0s - loss: 4.3627e-04\n",
            "Epoch 18/50\n",
            "156/156 - 0s - loss: 3.0149e-04\n",
            "Epoch 19/50\n",
            "156/156 - 0s - loss: 2.7346e-04\n",
            "Epoch 20/50\n",
            "156/156 - 0s - loss: 2.8183e-04\n",
            "Epoch 21/50\n",
            "156/156 - 0s - loss: 2.2377e-04\n",
            "Epoch 22/50\n",
            "156/156 - 0s - loss: 2.0291e-04\n",
            "Epoch 23/50\n",
            "156/156 - 0s - loss: 1.4701e-04\n",
            "Epoch 24/50\n",
            "156/156 - 0s - loss: 1.6771e-04\n",
            "Epoch 25/50\n",
            "156/156 - 0s - loss: 1.3368e-04\n",
            "Epoch 26/50\n",
            "156/156 - 0s - loss: 1.2208e-04\n",
            "Epoch 27/50\n",
            "156/156 - 0s - loss: 1.1764e-04\n",
            "Epoch 28/50\n",
            "156/156 - 0s - loss: 7.8577e-05\n",
            "Epoch 29/50\n",
            "156/156 - 0s - loss: 6.4343e-05\n",
            "Epoch 30/50\n",
            "156/156 - 0s - loss: 6.6055e-05\n",
            "Epoch 31/50\n",
            "156/156 - 0s - loss: 7.0263e-05\n",
            "Epoch 32/50\n",
            "156/156 - 0s - loss: 7.2160e-05\n",
            "Epoch 33/50\n",
            "156/156 - 0s - loss: 6.0830e-05\n",
            "Epoch 34/50\n",
            "156/156 - 0s - loss: 5.7903e-05\n",
            "Epoch 35/50\n",
            "156/156 - 0s - loss: 6.0269e-05\n",
            "Epoch 36/50\n",
            "156/156 - 0s - loss: 5.9057e-05\n",
            "Epoch 37/50\n",
            "156/156 - 0s - loss: 6.9216e-05\n",
            "Epoch 38/50\n",
            "156/156 - 0s - loss: 5.2922e-05\n",
            "Epoch 39/50\n",
            "156/156 - 0s - loss: 5.2839e-05\n",
            "Epoch 40/50\n",
            "156/156 - 0s - loss: 4.0714e-05\n",
            "Epoch 41/50\n",
            "156/156 - 0s - loss: 3.8300e-05\n",
            "Epoch 42/50\n",
            "156/156 - 0s - loss: 3.6163e-05\n",
            "Epoch 43/50\n",
            "156/156 - 0s - loss: 2.6696e-05\n",
            "Epoch 44/50\n",
            "156/156 - 0s - loss: 2.2054e-05\n",
            "Epoch 45/50\n",
            "156/156 - 0s - loss: 2.2280e-05\n",
            "Epoch 46/50\n",
            "156/156 - 0s - loss: 3.1918e-05\n",
            "Epoch 47/50\n",
            "156/156 - 0s - loss: 4.2015e-05\n",
            "Epoch 48/50\n",
            "156/156 - 0s - loss: 5.0424e-05\n",
            "Epoch 49/50\n",
            "156/156 - 0s - loss: 4.9187e-05\n",
            "Epoch 50/50\n",
            "156/156 - 0s - loss: 4.1649e-05\n",
            "Train Score: 0.02 RMSE\n",
            "Test Score: 0.28 RMSE\n"
          ],
          "name": "stdout"
        },
        {
          "output_type": "display_data",
          "data": {
            "image/png": "[encoded data removed]",
            "text/plain": [
              "<Figure size 432x288 with 1 Axes>"
            ]
          },
          "metadata": {
            "tags": [],
            "needs_background": "light"
          }
        }
      ]
    },
    {
      "cell_type": "code",
      "metadata": {
        "id": "ry9oBqg7Deb1",
        "colab_type": "code",
        "colab": {
          "base_uri": "https://localhost:8080/",
          "height": 204
        },
        "outputId": "97ca9ba0-b12f-4321-f8b7-7f5cd4d81d7c"
      },
      "source": [
        "df = pd.read_csv(\"/content/art_daily_nojump.csv\")\n",
        "df.head()"
      ],
      "execution_count": 51,
      "outputs": [
        {
          "output_type": "execute_result",
          "data": {
            "text/html": [
              "<div>\n",
              "<style scoped>\n",
              "    .dataframe tbody tr th:only-of-type {\n",
              "        vertical-align: middle;\n",
              "    }\n",
              "\n",
              "    .dataframe tbody tr th {\n",
              "        vertical-align: top;\n",
              "    }\n",
              "\n",
              "    .dataframe thead th {\n",
              "        text-align: right;\n",
              "    }\n",
              "</style>\n",
              "<table border=\"1\" class=\"dataframe\">\n",
              "  <thead>\n",
              "    <tr style=\"text-align: right;\">\n",
              "      <th></th>\n",
              "      <th>timestamp</th>\n",
              "      <th>value</th>\n",
              "      <th>label</th>\n",
              "    </tr>\n",
              "  </thead>\n",
              "  <tbody>\n",
              "    <tr>\n",
              "      <th>0</th>\n",
              "      <td>2014-04-01 00:00:00</td>\n",
              "      <td>21.598011</td>\n",
              "      <td>0</td>\n",
              "    </tr>\n",
              "    <tr>\n",
              "      <th>1</th>\n",
              "      <td>2014-04-01 00:05:00</td>\n",
              "      <td>19.321392</td>\n",
              "      <td>0</td>\n",
              "    </tr>\n",
              "    <tr>\n",
              "      <th>2</th>\n",
              "      <td>2014-04-01 00:10:00</td>\n",
              "      <td>21.399938</td>\n",
              "      <td>0</td>\n",
              "    </tr>\n",
              "    <tr>\n",
              "      <th>3</th>\n",
              "      <td>2014-04-01 00:15:00</td>\n",
              "      <td>18.373916</td>\n",
              "      <td>0</td>\n",
              "    </tr>\n",
              "    <tr>\n",
              "      <th>4</th>\n",
              "      <td>2014-04-01 00:20:00</td>\n",
              "      <td>18.167499</td>\n",
              "      <td>0</td>\n",
              "    </tr>\n",
              "  </tbody>\n",
              "</table>\n",
              "</div>"
            ],
            "text/plain": [
              "             timestamp      value  label\n",
              "0  2014-04-01 00:00:00  21.598011      0\n",
              "1  2014-04-01 00:05:00  19.321392      0\n",
              "2  2014-04-01 00:10:00  21.399938      0\n",
              "3  2014-04-01 00:15:00  18.373916      0\n",
              "4  2014-04-01 00:20:00  18.167499      0"
            ]
          },
          "metadata": {
            "tags": []
          },
          "execution_count": 51
        }
      ]
    },
    {
      "cell_type": "code",
      "metadata": {
        "id": "WaD9LR52DI0X",
        "colab_type": "code",
        "colab": {
          "base_uri": "https://localhost:8080/",
          "height": 221
        },
        "outputId": "83f88586-def1-43d6-f6b6-574624b6b6c6"
      },
      "source": [
        "df['value']"
      ],
      "execution_count": 52,
      "outputs": [
        {
          "output_type": "execute_result",
          "data": {
            "text/plain": [
              "0       21.598011\n",
              "1       19.321392\n",
              "2       21.399938\n",
              "3       18.373916\n",
              "4       18.167499\n",
              "          ...    \n",
              "4027    18.379705\n",
              "4028    19.383839\n",
              "4029    21.423756\n",
              "4030    21.851140\n",
              "4031    18.969085\n",
              "Name: value, Length: 4032, dtype: float64"
            ]
          },
          "metadata": {
            "tags": []
          },
          "execution_count": 52
        }
      ]
    },
    {
      "cell_type": "code",
      "metadata": {
        "id": "DMf8LhJiDw5e",
        "colab_type": "code",
        "colab": {
          "base_uri": "https://localhost:8080/",
          "height": 221
        },
        "outputId": "3ef39f4b-dff1-4dcc-cc34-e4fdaf1f0399"
      },
      "source": [
        "df['value'][:-3]"
      ],
      "execution_count": 53,
      "outputs": [
        {
          "output_type": "execute_result",
          "data": {
            "text/plain": [
              "0       21.598011\n",
              "1       19.321392\n",
              "2       21.399938\n",
              "3       18.373916\n",
              "4       18.167499\n",
              "          ...    \n",
              "4024    21.233844\n",
              "4025    20.626564\n",
              "4026    18.569065\n",
              "4027    18.379705\n",
              "4028    19.383839\n",
              "Name: value, Length: 4029, dtype: float64"
            ]
          },
          "metadata": {
            "tags": []
          },
          "execution_count": 53
        }
      ]
    },
    {
      "cell_type": "code",
      "metadata": {
        "id": "KY1GsJdH1H0K",
        "colab_type": "code",
        "colab": {
          "base_uri": "https://localhost:8080/",
          "height": 459
        },
        "outputId": "b3d7e197-6596-4356-b94b-b921ab1ec468"
      },
      "source": [
        "arrays = np.split(df['value'][:-3], 5)"
      ],
      "execution_count": 54,
      "outputs": [
        {
          "output_type": "error",
          "ename": "ValueError",
          "evalue": "ignored",
          "traceback": [
            "\u001b[0;31m---------------------------------------------------------------------------\u001b[0m",
            "\u001b[0;31mTypeError\u001b[0m                                 Traceback (most recent call last)",
            "\u001b[0;32m/usr/local/lib/python3.6/dist-packages/numpy/lib/shape_base.py\u001b[0m in \u001b[0;36msplit\u001b[0;34m(ary, indices_or_sections, axis)\u001b[0m\n\u001b[1;32m    864\u001b[0m     \u001b[0;32mtry\u001b[0m\u001b[0;34m:\u001b[0m\u001b[0;34m\u001b[0m\u001b[0;34m\u001b[0m\u001b[0m\n\u001b[0;32m--> 865\u001b[0;31m         \u001b[0mlen\u001b[0m\u001b[0;34m(\u001b[0m\u001b[0mindices_or_sections\u001b[0m\u001b[0;34m)\u001b[0m\u001b[0;34m\u001b[0m\u001b[0;34m\u001b[0m\u001b[0m\n\u001b[0m\u001b[1;32m    866\u001b[0m     \u001b[0;32mexcept\u001b[0m \u001b[0mTypeError\u001b[0m\u001b[0;34m:\u001b[0m\u001b[0;34m\u001b[0m\u001b[0;34m\u001b[0m\u001b[0m\n",
            "\u001b[0;31mTypeError\u001b[0m: object of type 'int' has no len()",
            "\nDuring handling of the above exception, another exception occurred:\n",
            "\u001b[0;31mValueError\u001b[0m                                Traceback (most recent call last)",
            "\u001b[0;32m<ipython-input-54-0a8dd89486eb>\u001b[0m in \u001b[0;36m<module>\u001b[0;34m()\u001b[0m\n\u001b[0;32m----> 1\u001b[0;31m \u001b[0marrays\u001b[0m \u001b[0;34m=\u001b[0m \u001b[0mnp\u001b[0m\u001b[0;34m.\u001b[0m\u001b[0msplit\u001b[0m\u001b[0;34m(\u001b[0m\u001b[0mdf\u001b[0m\u001b[0;34m[\u001b[0m\u001b[0;34m'value'\u001b[0m\u001b[0;34m]\u001b[0m\u001b[0;34m[\u001b[0m\u001b[0;34m:\u001b[0m\u001b[0;34m-\u001b[0m\u001b[0;36m3\u001b[0m\u001b[0;34m]\u001b[0m\u001b[0;34m,\u001b[0m \u001b[0;36m5\u001b[0m\u001b[0;34m)\u001b[0m\u001b[0;34m\u001b[0m\u001b[0;34m\u001b[0m\u001b[0m\n\u001b[0m",
            "\u001b[0;32m<__array_function__ internals>\u001b[0m in \u001b[0;36msplit\u001b[0;34m(*args, **kwargs)\u001b[0m\n",
            "\u001b[0;32m/usr/local/lib/python3.6/dist-packages/numpy/lib/shape_base.py\u001b[0m in \u001b[0;36msplit\u001b[0;34m(ary, indices_or_sections, axis)\u001b[0m\n\u001b[1;32m    869\u001b[0m         \u001b[0;32mif\u001b[0m \u001b[0mN\u001b[0m \u001b[0;34m%\u001b[0m \u001b[0msections\u001b[0m\u001b[0;34m:\u001b[0m\u001b[0;34m\u001b[0m\u001b[0;34m\u001b[0m\u001b[0m\n\u001b[1;32m    870\u001b[0m             raise ValueError(\n\u001b[0;32m--> 871\u001b[0;31m                 'array split does not result in an equal division')\n\u001b[0m\u001b[1;32m    872\u001b[0m     \u001b[0;32mreturn\u001b[0m \u001b[0marray_split\u001b[0m\u001b[0;34m(\u001b[0m\u001b[0mary\u001b[0m\u001b[0;34m,\u001b[0m \u001b[0mindices_or_sections\u001b[0m\u001b[0;34m,\u001b[0m \u001b[0maxis\u001b[0m\u001b[0;34m)\u001b[0m\u001b[0;34m\u001b[0m\u001b[0;34m\u001b[0m\u001b[0m\n\u001b[1;32m    873\u001b[0m \u001b[0;34m\u001b[0m\u001b[0m\n",
            "\u001b[0;31mValueError\u001b[0m: array split does not result in an equal division"
          ]
        }
      ]
    },
    {
      "cell_type": "code",
      "metadata": {
        "id": "gSjqx_QEBcva",
        "colab_type": "code",
        "colab": {}
      },
      "source": [
        "import scipy\n",
        "from scipy import stats"
      ],
      "execution_count": 55,
      "outputs": []
    },
    {
      "cell_type": "code",
      "metadata": {
        "id": "EtMeGhvMFsZi",
        "colab_type": "code",
        "colab": {}
      },
      "source": [
        "import pandas as pd\n",
        "import numpy as np\n",
        "import matplotlib\n",
        "import matplotlib.pyplot as plt\n",
        "from statsmodels.graphics.tsaplots import plot_pacf\n",
        "from statsmodels.graphics.tsaplots import plot_acf\n",
        "from scipy.stats import linregress"
      ],
      "execution_count": 56,
      "outputs": []
    },
    {
      "cell_type": "code",
      "metadata": {
        "id": "IGdv_9JGChZu",
        "colab_type": "code",
        "colab": {
          "base_uri": "https://localhost:8080/",
          "height": 34
        },
        "outputId": "9e7d809f-32bf-4b48-9ed7-83b0518a87a3"
      },
      "source": [
        "stats.friedmanchisquare(arrays[0], arrays[1], arrays[2], arrays[3], arrays[4])"
      ],
      "execution_count": 57,
      "outputs": [
        {
          "output_type": "execute_result",
          "data": {
            "text/plain": [
              "FriedmanchisquareResult(statistic=371.53902439024387, pvalue=3.914100136905453e-79)"
            ]
          },
          "metadata": {
            "tags": []
          },
          "execution_count": 57
        }
      ]
    },
    {
      "cell_type": "code",
      "metadata": {
        "id": "mEaJjP03Cz9N",
        "colab_type": "code",
        "colab": {
          "base_uri": "https://localhost:8080/",
          "height": 34
        },
        "outputId": "0dbe11ae-aaa6-4ed3-8f85-8fd779681612"
      },
      "source": [
        "df['value'].autocorr(lag=100)"
      ],
      "execution_count": 58,
      "outputs": [
        {
          "output_type": "execute_result",
          "data": {
            "text/plain": [
              "-0.4391946928692329"
            ]
          },
          "metadata": {
            "tags": []
          },
          "execution_count": 58
        }
      ]
    },
    {
      "cell_type": "code",
      "metadata": {
        "id": "dykYCEKkFJ4p",
        "colab_type": "code",
        "colab": {
          "base_uri": "https://localhost:8080/",
          "height": 281
        },
        "outputId": "6c66fb60-c52e-4cc4-9889-83f8230c84d6"
      },
      "source": [
        "plot_acf(df['value'], lags=50)\n",
        "plt.show()"
      ],
      "execution_count": 60,
      "outputs": [
        {
          "output_type": "display_data",
          "data": {
            "image/png": "[encoded data removed]",
            "text/plain": [
              "<Figure size 432x288 with 1 Axes>"
            ]
          },
          "metadata": {
            "tags": [],
            "needs_background": "light"
          }
        }
      ]
    },
    {
      "cell_type": "code",
      "metadata": {
        "id": "XUwyjZgQFlA5",
        "colab_type": "code",
        "colab": {}
      },
      "source": [
        ""
      ],
      "execution_count": null,
      "outputs": []
    }
  ]
}